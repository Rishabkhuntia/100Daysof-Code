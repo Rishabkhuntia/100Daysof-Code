{
 "cells": [
  {
   "cell_type": "code",
   "execution_count": 61,
   "id": "a8364f99",
   "metadata": {},
   "outputs": [],
   "source": [
    "# Loading data from file\n",
    "import h5py\n",
    "path = \"usps.h5\"\n",
    "with h5py.File(path, 'r') as h:\n",
    "    train = h.get('train')\n",
    "    X_tr = train.get('data')[:]\n",
    "    Y_tr = train.get('target')[:]\n",
    "    test = h.get('test')\n",
    "    X_ts = test.get('data')[:]\n",
    "    Y_ts = test.get('target')[:]"
   ]
  },
  {
   "cell_type": "code",
   "execution_count": 62,
   "id": "35a6439a",
   "metadata": {},
   "outputs": [
    {
     "data": {
      "text/plain": [
       "(2007, 256)"
      ]
     },
     "execution_count": 62,
     "metadata": {},
     "output_type": "execute_result"
    }
   ],
   "source": [
    "X_ts.shape"
   ]
  },
  {
   "cell_type": "code",
   "execution_count": 55,
   "id": "e421d2f1",
   "metadata": {},
   "outputs": [],
   "source": [
    "# Library imports\n",
    "import matplotlib.pyplot as plt\n",
    "from sklearn.neighbors import KNeighborsClassifier\n",
    "from sklearn.metrics import classification_report, confusion_matrix, ConfusionMatrixDisplay\n",
    "from sklearn.model_selection import train_test_split"
   ]
  },
  {
   "cell_type": "code",
   "execution_count": 53,
   "id": "1dc77405",
   "metadata": {},
   "outputs": [
    {
     "name": "stdout",
     "output_type": "stream",
     "text": [
      "|   nearest_neighbours |   average cv score |\n",
      "|----------------------+--------------------|\n",
      "|                    1 |           0.967357 |\n",
      "|                    3 |           0.963927 |\n",
      "|                    5 |           0.95995  |\n",
      "|                    7 |           0.956521 |\n",
      "|                    9 |           0.955012 |\n",
      "|                   11 |           0.952817 |\n",
      "|                   13 |           0.948977 |\n",
      "|                   15 |           0.945548 |\n",
      "|                   17 |           0.943217 |\n",
      "|                   19 |           0.940885 |\n",
      "|                   21 |           0.937594 |\n",
      "|                   23 |           0.936908 |\n",
      "|                   25 |           0.935124 |\n",
      "|                   27 |           0.933615 |\n",
      "|                   29 |           0.93101  |\n"
     ]
    }
   ],
   "source": [
    "# Results for Cross Validation (5 splits) & Changing value of k from 1 to 29\n",
    "from tabulate import tabulate\n",
    "headers = [\"nearest_neighbours\", \"average cv score\"]\n",
    "values = []\n",
    "from sklearn.model_selection import KFold, cross_val_score\n",
    "for k in range(1, 30, 2):\n",
    "    clf = KNeighborsClassifier(n_neighbors=k)\n",
    "    k_folds = KFold(n_splits = 5)\n",
    "    scores = cross_val_score(clf, X_tr, Y_tr, cv = k_folds)\n",
    "\n",
    "    # print(\"nearest neighbours: \", k)\n",
    "    # print(\"Cross Validation Scores: \", scores)\n",
    "    # print(\"Average CV Score: \", scores.mean())\n",
    "    # print(\"\\n\")\n",
    "    values.append([k, scores.mean()])\n",
    "print(tabulate(values, headers=headers, tablefmt='orgtbl'))"
   ]
  },
  {
   "cell_type": "code",
   "execution_count": 58,
   "id": "0a25f23d",
   "metadata": {},
   "outputs": [
    {
     "data": {
      "image/png": "[encoded data removed]",
      "text/plain": [
       "<Figure size 432x288 with 2 Axes>"
      ]
     },
     "metadata": {
      "needs_background": "light"
     },
     "output_type": "display_data"
    },
    {
     "data": {
      "text/plain": [
       "array([[355,   0,   2,   0,   0,   0,   0,   1,   0,   1],\n",
       "       [  0, 255,   0,   0,   6,   0,   2,   1,   0,   0],\n",
       "       [  6,   1, 183,   2,   1,   0,   0,   2,   3,   0],\n",
       "       [  3,   0,   2, 154,   0,   5,   0,   0,   0,   2],\n",
       "       [  0,   3,   1,   0, 182,   1,   2,   2,   1,   8],\n",
       "       [  2,   1,   2,   4,   0, 145,   2,   0,   3,   1],\n",
       "       [  0,   0,   1,   0,   2,   3, 164,   0,   0,   0],\n",
       "       [  0,   1,   1,   1,   4,   0,   0, 139,   0,   1],\n",
       "       [  5,   0,   1,   6,   1,   1,   0,   1, 148,   3],\n",
       "       [  0,   0,   1,   0,   2,   0,   0,   4,   1, 169]])"
      ]
     },
     "execution_count": 58,
     "metadata": {},
     "output_type": "execute_result"
    }
   ],
   "source": [
    "# Proceeding with best k value of 1.\n",
    "model = KNeighborsClassifier(n_neighbors=1)\n",
    "model.fit(X_tr, Y_tr)\n",
    "predictions = model.predict(X_ts)\n",
    "\n",
    "# Confusion matrix function from sklearn\n",
    "cm = confusion_matrix(Y_ts, predictions)\n",
    " \n",
    "disp = ConfusionMatrixDisplay(confusion_matrix=cm, display_labels=model.classes_)\n",
    "disp.plot()\n",
    "plt.show()\n",
    "\n",
    "# Cm array\n",
    "cm"
   ]
  },
  {
   "cell_type": "code",
   "execution_count": 60,
   "id": "322540d0",
   "metadata": {},
   "outputs": [
    {
     "name": "stdout",
     "output_type": "stream",
     "text": [
      "EVALUATION ON TESTING DATA\n",
      "              precision    recall  f1-score   support\n",
      "\n",
      "           0       0.96      0.99      0.97       359\n",
      "           1       0.98      0.97      0.97       264\n",
      "           2       0.94      0.92      0.93       198\n",
      "           3       0.92      0.93      0.92       166\n",
      "           4       0.92      0.91      0.91       200\n",
      "           5       0.94      0.91      0.92       160\n",
      "           6       0.96      0.96      0.96       170\n",
      "           7       0.93      0.95      0.94       147\n",
      "           8       0.95      0.89      0.92       166\n",
      "           9       0.91      0.95      0.93       177\n",
      "\n",
      "    accuracy                           0.94      2007\n",
      "   macro avg       0.94      0.94      0.94      2007\n",
      "weighted avg       0.94      0.94      0.94      2007\n",
      "\n"
     ]
    }
   ],
   "source": [
    "# Precision and recall\n",
    "# final classification report demonstrating the accuracy of the classifier for each of the digits\n",
    "print(\"EVALUATION ON TESTING DATA\")\n",
    "print(classification_report(Y_ts, predictions))"
   ]
  },
  {
   "cell_type": "code",
   "execution_count": null,
   "id": "a8e787ef",
   "metadata": {},
   "outputs": [],
   "source": [
    "# Sift feature extraction method\n"
   ]
  }
 ],
 "metadata": {
  "kernelspec": {
   "display_name": "Python 3",
   "language": "python",
   "name": "python3"
  },
  "language_info": {
   "codemirror_mode": {
    "name": "ipython",
    "version": 3
   },
   "file_extension": ".py",
   "mimetype": "text/x-python",
   "name": "python",
   "nbconvert_exporter": "python",
   "pygments_lexer": "ipython3",
   "version": "3.11.1 (v3.11.1:a7a450f84a, Dec  6 2022, 15:24:06) [Clang 13.0.0 (clang-1300.0.29.30)]"
  },
  "vscode": {
   "interpreter": {
    "hash": "aee8b7b246df8f9039afb4144a1f6fd8d2ca17a180786b69acc140d282b71a49"
   }
  }
 },
 "nbformat": 4,
 "nbformat_minor": 5
}
